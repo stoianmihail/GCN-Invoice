{
 "cells": [
  {
   "cell_type": "code",
   "execution_count": null,
   "metadata": {},
   "outputs": [],
   "source": [
    "import os\n",
    "\n",
    "import pytesseract\n",
    "from pytesseract import Output\n",
    "import cv2\n",
    "\n",
    "# Libraries for Visualization\n",
    "from PIL import Image, ImageDraw\n",
    "from IPython.display import display\n",
    "\n",
    "import src.wordbox\n",
    "from src.Task1 import task1"
   ]
  },
  {
   "cell_type": "code",
   "execution_count": null,
   "metadata": {
    "id": "3ccTQ6LjcuYw"
   },
   "outputs": [],
   "source": [
    "def ResizeWithAspectRatio(image, width=None, height=None, inter=cv2.INTER_AREA):\n",
    "    dim = None\n",
    "    (h, w) = image.shape[:2]\n",
    "\n",
    "    if width is None and height is None:\n",
    "        return image\n",
    "    if width is None:\n",
    "        r = height / float(h)\n",
    "        dim = (int(w * r), height)\n",
    "    else:\n",
    "        r = width / float(w)\n",
    "        dim = (width, int(h * r))\n",
    "\n",
    "    return cv2.resize(image, dim, interpolation=inter)"
   ]
  },
  {
   "cell_type": "code",
   "execution_count": null,
   "metadata": {
    "id": "V6c4qC2tcvtL"
   },
   "outputs": [],
   "source": []
  },
  {
   "cell_type": "code",
   "execution_count": null,
   "metadata": {
    "id": "Mw2dupo70SlI"
   },
   "outputs": [],
   "source": []
  },
  {
   "cell_type": "code",
   "execution_count": null,
   "metadata": {
    "id": "lOP8HLO7c-Xb"
   },
   "outputs": [],
   "source": []
  },
  {
   "cell_type": "code",
   "execution_count": null,
   "metadata": {},
   "outputs": [],
   "source": [
    "def debug(index):\n",
    "    box = boxes[index]\n",
    "    return (box.page_num, box.block_num, box.par_num, box.line_num)\n",
    "\n",
    "def info(box):\n",
    "    return str((box.text, box.left, box.top, box.width, box.height))\n",
    "\n",
    "def gravityCenter(box):\n",
    "# Compute the gravity center of `box`.\n",
    "    return (box.left + box.width / 2, box.top + box.height / 2)\n",
    "\n",
    "def isHorizontal(this, other):\n",
    "# Check whether `other` is placed horizontally wrt to `this`.\n",
    "    if this.top >= other.top + other.height:\n",
    "        return False\n",
    "    if other.top >= this.top + this.height:\n",
    "        return False\n",
    "    return True\n",
    "\n",
    "def isVertical(this, other):\n",
    "# Check whether `other` is placed vertically wrt to `this`.\n",
    "    if this.left >= other.left + other.width:\n",
    "        return False\n",
    "    if other.left >= this.left + this.width:\n",
    "        return False\n",
    "    return True\n",
    "\n",
    "def coordDiff(this, other, axis):\n",
    "# Coordinate difference on `axis`.\n",
    "    return abs(gravityCenter(this)[axis] - gravityCenter(other)[axis])\n",
    "\n",
    "def isHCloser(this, other, that):\n",
    "# Is `other` horizontally closer than `that` wrt `this`?\n",
    "    return coordDiff(this, other, 0) <= coordDiff(this, that, 0) \n",
    "\n",
    "def isVCloser(this, other, that):\n",
    "# Is `other` vertically closer than `that` wrt `this`?\n",
    "    return coordDiff(this, other, 1) <= coordDiff(this, that, 1) \n",
    "\n",
    "def isLeft(this, other):\n",
    "# Left?\n",
    "    return isHorizontal(this, other) and gravityCenter(this)[0] >= gravityCenter(other)[0]\n",
    "\n",
    "def isRight(this, other):\n",
    "# Right?\n",
    "    return isHorizontal(this, other) and gravityCenter(this)[0] <= gravityCenter(other)[0]\n",
    "\n",
    "def isTop(this, other):\n",
    "# Top?\n",
    "    return isVertical(this, other) and gravityCenter(this)[1] >= gravityCenter(other)[1]\n",
    "\n",
    "def isBottom(this, other):\n",
    "# Bottom?\n",
    "    return isVertical(this, other) and gravityCenter(this)[1] <= gravityCenter(other)[1]\n",
    "\n",
    "# Function mapper.\n",
    "mapper = {'left': {'direction_fn' : isLeft, 'closer_fn' : isHCloser},\n",
    "          'right' : {'direction_fn' : isRight, 'closer_fn' : isHCloser},\n",
    "          'top' : {'direction_fn' : isTop, 'closer_fn' : isVCloser},\n",
    "          'bottom' : {'direction_fn' : isBottom, 'closer_fn' : isVCloser}\n",
    "         }\n",
    "\n",
    "def computeDistance(this, other):\n",
    "    gc1 = gravityCenter(this)\n",
    "    gc2 = gravityCenter(other)\n",
    "    return ((gc1[0] - gc2[0])**2 + (gc1[1] - gc2[1])**2)**0.5\n",
    "\n",
    "# Update the neighbors.\n",
    "def update(coord, this, other):\n",
    "    for key in coord.keys():\n",
    "        if mapper[key]['direction_fn'](this, other):\n",
    "            if (coord[key] is None) or (mapper[key]['closer_fn'](this, other, coord[key]['which'])):\n",
    "                coord[key] = {'which' : other, 'distance' : computeDistance(this, other)}\n",
    "\n",
    "# Print the graph.\n",
    "# TODO: visualize graph\n",
    "# print('\\n'.join([str(elem) for elem in boxes]))"
   ]
  },
  {
   "cell_type": "code",
   "execution_count": null,
   "metadata": {},
   "outputs": [],
   "source": [
    "# Construct the graph.\n",
    "def construct_graph(filepath):\n",
    "    boxes = task1(filepath, 'output/test.txt')\n",
    "    # print('\\n'.join([str(elem) for elem in boxes]))\n",
    "    for i, box1 in enumerate(boxes):\n",
    "        coord = {'left' : None, 'right' : None, 'top' : None, 'bottom' : None}\n",
    "        for j, box2 in enumerate(boxes):\n",
    "            if i == j:\n",
    "                continue\n",
    "            update(coord, box1, box2)\n",
    "        # Set the neighbors.\n",
    "        box1.set_neighs(left=coord['left'], right=coord['right'], top=coord['top'], bottom=coord['bottom'])\n",
    "    return boxes"
   ]
  },
  {
   "cell_type": "code",
   "execution_count": null,
   "metadata": {},
   "outputs": [],
   "source": [
    "def annotate_image(filepath, boxes):\n",
    "# Visualize the Box and Neighbours using PIL\n",
    "    kWidth = 2\n",
    "    kBoxColor = (0, 0, 255, 255)\n",
    "    with Image.open(filepath).convert('RGBA') as img:\n",
    "        draw = ImageDraw.Draw(img)\n",
    "    \n",
    "        for box in boxes:\n",
    "            top, bottom, left, right = box.top, box.top + box.height, box.left, box.left + box.width\n",
    "            # Top, Bottom, Left, Right Lines\n",
    "            draw.line((left, top, right, top), width=kWidth, fill=kBoxColor)\n",
    "            draw.line((left, bottom, right, bottom), width=kWidth, fill=kBoxColor)\n",
    "            draw.line((left, top, left, bottom), width=kWidth, fill=kBoxColor)\n",
    "            draw.line((right, top, right, bottom), width=kWidth, fill=kBoxColor)\n",
    "\n",
    "            for name, neighbour in box.neighs.items():\n",
    "                if neighbour is not None:\n",
    "                    neigh = neighbour['which']\n",
    "                    if name == 'top':\n",
    "                        boxPos = (box.left + box.width / 2, box.top)\n",
    "                        neighPos = (neigh.left + neigh.width / 2, neigh.top + neigh.height)\n",
    "                    elif name == 'bottom':\n",
    "                        boxPos = (box.left + box.width / 2, box.top + box.height)\n",
    "                        neighPos = (neigh.left + neigh.width / 2, neigh.top)\n",
    "                    elif name == 'left':\n",
    "                        boxPos = (box.left, box.top + box.height / 2)\n",
    "                        neighPos = (neigh.left + neigh.width, neigh.top + neigh.height / 2)\n",
    "                    elif name == 'right':\n",
    "                        boxPos = (box.left + box.width, box.top + box.height / 2)\n",
    "                        neighPos = (neigh.left, neigh.top + neigh.height / 2)\n",
    "                    # Draw Line between Gravity Center of Box and Neighbour\n",
    "                    draw.line(boxPos + neighPos, width=kWidth, fill=(0, 255, 0, 255))\n",
    "        display(img)"
   ]
  },
  {
   "cell_type": "code",
   "execution_count": null,
   "metadata": {},
   "outputs": [],
   "source": []
  }
 ],
 "metadata": {
  "colab": {
   "collapsed_sections": [],
   "name": "Untitled",
   "provenance": []
  },
  "interpreter": {
   "hash": "916dbcbb3f70747c44a77c7bcd40155683ae19c65e1c03b4aa3499c5328201f1"
  },
  "kernelspec": {
   "display_name": "Python 3",
   "language": "python",
   "name": "python3"
  },
  "language_info": {
   "codemirror_mode": {
    "name": "ipython",
    "version": 3
   },
   "file_extension": ".py",
   "mimetype": "text/x-python",
   "name": "python",
   "nbconvert_exporter": "python",
   "pygments_lexer": "ipython3",
   "version": "3.7.6"
  }
 },
 "nbformat": 4,
 "nbformat_minor": 1
}
