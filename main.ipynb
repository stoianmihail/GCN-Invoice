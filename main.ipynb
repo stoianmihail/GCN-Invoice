{
 "cells": [
  {
   "cell_type": "code",
   "execution_count": null,
   "source": [
    "\n",
    "%load_ext autoreload\n",
    "%autoreload 2\n",
    "\n",
    "import os\n",
    "\n",
    "import pytesseract\n",
    "from pytesseract import Output\n",
    "import cv2\n",
    "\n",
    "# Libraries for Visualization\n",
    "from PIL import Image, ImageDraw\n",
    "from IPython.display import display\n",
    "\n",
    "import src.wordbox\n",
    "from src.graph import construct_graph"
   ],
   "outputs": [],
   "metadata": {}
  },
  {
   "cell_type": "code",
   "execution_count": null,
   "source": [
    "def ResizeWithAspectRatio(image, width=None, height=None, inter=cv2.INTER_AREA):\n",
    "    dim = None\n",
    "    (h, w) = image.shape[:2]\n",
    "\n",
    "    if width is None and height is None:\n",
    "        return image\n",
    "    if width is None:\n",
    "        r = height / float(h)\n",
    "        dim = (int(w * r), height)\n",
    "    else:\n",
    "        r = width / float(w)\n",
    "        dim = (width, int(h * r))\n",
    "\n",
    "    return cv2.resize(image, dim, interpolation=inter)"
   ],
   "outputs": [],
   "metadata": {
    "id": "3ccTQ6LjcuYw"
   }
  },
  {
   "cell_type": "code",
   "execution_count": null,
   "source": [
    "def annotate_image(filepath, boxes):\n",
    "# Visualize the Box and Neighbours using PIL\n",
    "    kWidth = 2\n",
    "    kBoxColor = (0, 0, 255, 255)\n",
    "    with Image.open(filepath).convert('RGBA') as img:\n",
    "        draw = ImageDraw.Draw(img)\n",
    "    \n",
    "        for box in boxes:\n",
    "            top, bottom, left, right = box.top, box.top + box.height, box.left, box.left + box.width\n",
    "            # Top, Bottom, Left, Right Lines\n",
    "            draw.line((left, top, right, top), width=kWidth, fill=kBoxColor)\n",
    "            draw.line((left, bottom, right, bottom), width=kWidth, fill=kBoxColor)\n",
    "            draw.line((left, top, left, bottom), width=kWidth, fill=kBoxColor)\n",
    "            draw.line((right, top, right, bottom), width=kWidth, fill=kBoxColor)\n",
    "\n",
    "            # Plot edges.\n",
    "            for name, neighbour in box.neighs.items():\n",
    "                if neighbour is not None:\n",
    "                    neigh = neighbour['which']\n",
    "                    if name == 'top':\n",
    "                        boxPos = (box.left + box.width / 2, box.top)\n",
    "                        neighPos = (neigh.left + neigh.width / 2, neigh.top + neigh.height)\n",
    "                    elif name == 'bottom':\n",
    "                        boxPos = (box.left + box.width / 2, box.top + box.height)\n",
    "                        neighPos = (neigh.left + neigh.width / 2, neigh.top)\n",
    "                    elif name == 'left':\n",
    "                        boxPos = (box.left, box.top + box.height / 2)\n",
    "                        neighPos = (neigh.left + neigh.width, neigh.top + neigh.height / 2)\n",
    "                    elif name == 'right':\n",
    "                        boxPos = (box.left + box.width, box.top + box.height / 2)\n",
    "                        neighPos = (neigh.left, neigh.top + neigh.height / 2)\n",
    "                    # Draw Line between Gravity Center of Box and Neighbour\n",
    "                    draw.line(boxPos + neighPos, width=kWidth, fill=(0, 255, 0, 255))\n",
    "        display(img)"
   ],
   "outputs": [],
   "metadata": {}
  },
  {
   "cell_type": "code",
   "execution_count": null,
   "source": [
    "boxes = construct_graph('./img/test.jpg')\n",
    "print('\\n'.join([str(elem) for elem in boxes]))\n",
    "annotate_image('./img/test.jpg', boxes)"
   ],
   "outputs": [],
   "metadata": {}
  }
 ],
 "metadata": {
  "colab": {
   "collapsed_sections": [],
   "name": "Untitled",
   "provenance": []
  },
  "interpreter": {
   "hash": "916dbcbb3f70747c44a77c7bcd40155683ae19c65e1c03b4aa3499c5328201f1"
  },
  "kernelspec": {
   "name": "python3",
   "display_name": "Python 3.8.10 64-bit"
  },
  "language_info": {
   "codemirror_mode": {
    "name": "ipython",
    "version": 3
   },
   "file_extension": ".py",
   "mimetype": "text/x-python",
   "name": "python",
   "nbconvert_exporter": "python",
   "pygments_lexer": "ipython3",
   "version": "3.8.10"
  }
 },
 "nbformat": 4,
 "nbformat_minor": 1
}