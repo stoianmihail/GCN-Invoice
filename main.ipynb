{
 "cells": [
  {
   "cell_type": "code",
   "execution_count": 4,
   "metadata": {
    "id": "3ccTQ6LjcuYw"
   },
   "outputs": [],
   "source": [
    "import pytesseract\n",
    "from pytesseract import Output\n",
    "import cv2\n",
    "\n",
    "def ResizeWithAspectRatio(image, width=None, height=None, inter=cv2.INTER_AREA):\n",
    "    dim = None\n",
    "    (h, w) = image.shape[:2]\n",
    "\n",
    "    if width is None and height is None:\n",
    "        return image\n",
    "    if width is None:\n",
    "        r = height / float(h)\n",
    "        dim = (int(w * r), height)\n",
    "    else:\n",
    "        r = width / float(w)\n",
    "        dim = (width, int(h * r))\n",
    "\n",
    "    return cv2.resize(image, dim, interpolation=inter)"
   ]
  },
  {
   "cell_type": "code",
   "execution_count": 77,
   "metadata": {
    "id": "V6c4qC2tcvtL"
   },
   "outputs": [],
   "source": [
    "class Wordbox:\n",
    "    def __init__(self, level, page_num, block_num, par_num, line_num, word_num, left, top, width, height, conf, text):\n",
    "        self.level = level\n",
    "        self.page_num = page_num\n",
    "        self.block_num = block_num\n",
    "        self.par_num = par_num\n",
    "        self.line_num = line_num\n",
    "        self.word_num = word_num\n",
    "        self.left = left\n",
    "        self.top = top\n",
    "        self.width = width\n",
    "        self.height = height\n",
    "        self.conf = conf\n",
    "        self.text = text\n",
    "        self.neighs = {}\n",
    "        \n",
    "    def set_neighs(self, left=None, right=None, up=None, down=None):\n",
    "        if left is not None:\n",
    "            self.neighs['left'] = left\n",
    "        if right is not None:\n",
    "            self.neighs['right'] = right\n",
    "        if up is not None:\n",
    "            self.neighs['up'] = up\n",
    "        if down is not None:\n",
    "            self.neighs['down'] = down\n",
    "        pass\n",
    "        \n",
    "    def __str__(self):\n",
    "        def get_neigh(key):\n",
    "            if key in self.neighs:\n",
    "                return self.neighs[key].text\n",
    "            return 'None'\n",
    "        return 'text: ' + self.text + ' left=' + get_neigh('left') + ' right=' + get_neigh('right')\n",
    "        #return 'line_num: ' + str(self.line_num) + ', left: ' + str(self.left) + ', top: ' + str(self.top)\n",
    "        "
   ]
  },
  {
   "cell_type": "code",
   "execution_count": 78,
   "metadata": {
    "id": "lSQqd03bc6hJ"
   },
   "outputs": [],
   "source": [
    "#from pdf2image import convert_from_path\n",
    "#pages = convert_from_path('example.pdf', 500)\n",
    "\n",
    "#for i, page in enumerate(pages):\n",
    "#    page.save('example' + str(i) + '.png', 'PNG')\n",
    "\n"
   ]
  },
  {
   "cell_type": "code",
   "execution_count": 145,
   "metadata": {
    "id": "Mw2dupo70SlI"
   },
   "outputs": [],
   "source": [
    "import re\n",
    "def isValid(text):\n",
    "    if len(text.strip()) == 0:\n",
    "        return False\n",
    "    if re.match(r'[:;,.!?\\\\-]', text.strip()) is not None:\n",
    "        return False\n",
    "    return True"
   ]
  },
  {
   "cell_type": "code",
   "execution_count": 150,
   "metadata": {
    "id": "lOP8HLO7c-Xb"
   },
   "outputs": [],
   "source": [
    "kWidthThreshold = 2.0\n",
    "\n",
    "def task1(path, output_file):\n",
    "    print('Process: ' + path)\n",
    "    img = cv2.imread(path)\n",
    "    d = pytesseract.image_to_data(img, output_type=Output.DICT)\n",
    "    n_boxes = len(d['level'])\n",
    "\n",
    "    wordboxes = []\n",
    "    for i in range(n_boxes):\n",
    "        if d['level'][i] == 5:\n",
    "            wordboxes.append(Wordbox(d['level'][i], d['page_num'][i], d['block_num'][i], d['par_num'][i], d['line_num'][i], d['word_num'][i], d['left'][i], d['top'][i], d['width'][i], d['height'][i], d['conf'][i], d['text'][i]))\n",
    "\n",
    "    for i in range(n_boxes):\n",
    "        if d['level'][i] == 5:\n",
    "            (x, y, w, h) = (d['left'][i], d['top'][i], d['width'][i], d['height'][i])    \n",
    "            cv2.rectangle(img, (x, y), (x + w, y + h), (0, 0, 255), 2)\n",
    "\n",
    "    wordboxes = list(filter(lambda x: isValid(x.text), wordboxes))\n",
    "    wordboxes = sorted(wordboxes, key=lambda x:(x.page_num, x.block_num, x.par_num, x.line_num, x.left))        \n",
    "\n",
    "    curr_left, curr_top, curr_right, curr_bottom, curr_pos, curr_word = None, None, None, None, None, None\n",
    "\n",
    "    ret = ''\n",
    "    args = [-1] * 11 + [\"\"]\n",
    "    wordboxes.append(Wordbox(*args))\n",
    "    new_wordboxes = []\n",
    "    state = None\n",
    "    curr_line_num = None\n",
    "    acc_num_letters = 0\n",
    "    acc_width = 0\n",
    "    for wordbox in wordboxes:\n",
    "        new_pos = (wordbox.page_num, wordbox.block_num, wordbox.par_num, wordbox.line_num)\n",
    "        # replace 30 with 3*avg letter size in that line\n",
    "        #print(\"wordbox.line_num=\" + str(wordbox.line_num) + \"wordbox.text=\" + wordbox.text + \" word_num=\" + str(wordbox.word_num))\n",
    "        # Update the current line number and its state.\n",
    "        if new_pos != curr_pos:\n",
    "            acc_num_letters = 0\n",
    "            acc_width = 0\n",
    "            \n",
    "        acc_num_letters += len(wordbox.text.strip())\n",
    "        acc_width += wordbox.width\n",
    "            \n",
    "        hasMerged = False\n",
    "        if new_pos == curr_pos:\n",
    "            # Computer the letter weight.\n",
    "            letter_weight = acc_width / acc_num_letters\n",
    "            if (wordbox.left - curr_right) / letter_weight <= kWidthThreshold:\n",
    "                curr_right = wordbox.left + wordbox.width\n",
    "                curr_word = curr_word + ' ' + wordbox.text\n",
    "                hasMerged = True\n",
    "        if not hasMerged:\n",
    "            if curr_pos is not None:\n",
    "                assert state is not None\n",
    "                if isValid(curr_word):\n",
    "                    new_wordboxes.append(Wordbox(\n",
    "                        6,\n",
    "                        page_num=state['page_num'],\n",
    "                        block_num=state['block_num'],\n",
    "                        par_num=state['par_num'],\n",
    "                        line_num=state['line_num'],\n",
    "                        word_num=-1,\n",
    "                        left=curr_left,\n",
    "                        top=curr_top,\n",
    "                        width=curr_right - curr_left,\n",
    "                        height=curr_bottom - curr_top,\n",
    "                        conf=-1,\n",
    "                        text=curr_word\n",
    "                    ))\n",
    "                #print(new_wordboxes[-1])\n",
    "                #print(','.join([str(elem) for elem in [curr_left, curr_top, curr_right, curr_top, curr_right, curr_bottom, curr_left, curr_bottom, curr_word]]))\n",
    "                #ret += str(curr_left) + ',' + str(curr_top) + ',' + str(curr_right) + ',' + str(curr_top) + ',' + str(curr_right) + ',' + str(curr_bottom) + ','\n",
    "                #+ str(curr_left) + ',' + str(curr_bottom) + ',' \n",
    "                #+ curr_word\n",
    "            curr_word = wordbox.text\n",
    "            curr_pos = new_pos\n",
    "            curr_left = wordbox.left\n",
    "            curr_top = wordbox.top\n",
    "            curr_right = wordbox.left + wordbox.width\n",
    "            curr_bottom = wordbox.top + wordbox.height\n",
    "            \n",
    "            # Update the state.\n",
    "            state = {\n",
    "                'page_num' : wordbox.page_num,\n",
    "                'block_num' : wordbox.block_num,\n",
    "                'par_num' : wordbox.par_num,\n",
    "                'line_num' : wordbox.line_num\n",
    "            }\n",
    "    \n",
    "    return new_wordboxes\n",
    "    #return ret\n",
    "    #with open(output_file, 'w') as f:\n",
    "    #    f.write(ret)\n",
    "    #pass"
   ]
  },
  {
   "cell_type": "code",
   "execution_count": 127,
   "metadata": {
    "id": "fCp58FOgzd5Q"
   },
   "outputs": [],
   "source": [
    "#def solve_task1():\n",
    "#  input_dir = main_dir + 'task1&2_test(361p)'\n",
    "#  output_dir = '/content/drive/MyDrive/MySROIE2019/task1-test/'\n",
    "#  for file in get_files(input_dir):\n",
    "#    print(\"File: \" + file['path'])\n",
    "#    output_file = output_dir + file['path'].split('/')[-1].replace('.jpg', '') + '.txt'\n",
    "#    task1(file['path'], output_file)\n",
    "#    #with open(output_dir + file['path'].split('/')[0].replace('.jpg', '') + '.txt', 'w') as f:\n",
    "#    #  f.write(ret)"
   ]
  },
  {
   "cell_type": "code",
   "execution_count": 82,
   "metadata": {
    "colab": {
     "base_uri": "https://localhost:8080/"
    },
    "id": "SToO1rsszd32",
    "outputId": "ffec04d6-a554-47b0-aa60-1b71978f1e44"
   },
   "outputs": [],
   "source": [
    "#task1('/content/drive/MyDrive/SROIE2019/task1&2_test(361p)/X00016469670.jpg')\n",
    "#solve_task1()"
   ]
  },
  {
   "cell_type": "code",
   "execution_count": 151,
   "metadata": {
    "colab": {
     "base_uri": "https://localhost:8080/"
    },
    "id": "g3h5VC5r-kfj",
    "outputId": "d1f543ff-ae1d-40da-db5a-7b1497140704"
   },
   "outputs": [
    {
     "name": "stdout",
     "output_type": "stream",
     "text": [
      "Process: img/test.jpg\n",
      "text: tan woon yann left=None right=None\n",
      "text: BOOK TAK (TAMAN DAYA) SDN BHD left=None right=None\n",
      "text: B97 left=None right=None\n",
      "text: NO.5? 55,57 & 59, JALAN SAGU 18, left=None right=None\n",
      "text: TAMAN DAYA left=None right=None\n",
      "text: 81100 JOHOR BAHRU, left=None right=None\n",
      "text: JOHOR. left=None right=None\n",
      "text: WAM MICA A left=None right=None\n",
      "text: Document Ho left=None right=None\n",
      "text: TDO1167104 left=None right=None\n",
      "text: Date left=None right=None\n",
      "text: 25/12/2018 8:13:39 PM left=None right=None\n",
      "text: Cashier left=None right=None\n",
      "text: MANIS left=None right=None\n",
      "text: Member left=None right=None\n",
      "text: CASH BILL left=None right=None\n",
      "text: CODE/DESC left=None right=None\n",
      "text: PRICE left=None right=None\n",
      "text: Disc left=None right=None\n",
      "text: AMOUITT left=None right=None\n",
      "text: Quy left=None right=None\n",
      "text: RM left=None right=None\n",
      "text: RM left=None right=None\n",
      "text: 9556939040118 left=None right=None\n",
      "text: KF MODELLING CLAY KIDDY left=None right=None\n",
      "text: FISH left=None right=None\n",
      "text: 1PC left=None right=None\n",
      "text: * left=None right=None\n",
      "text: 9.00) left=None right=None\n",
      "text: 6,00 left=None right=None\n",
      "text: 9.00 left=None right=None\n",
      "text: Total left=None right=None\n",
      "text: 9,00 left=None right=None\n",
      "text: Rour ding Adjustment left=None right=None\n",
      "text: 0.00 left=None right=None\n",
      "text: Round::d Total (RM): left=None right=None\n",
      "text: 9.60 left=None right=None\n",
      "text: Cash left=None right=None\n",
      "text: CHANGE left=None right=None\n",
      "text: GOODS SOLD ARE NOT RETURNAR left=None right=None\n",
      "text: EXCHANGEABLE left=None right=None\n",
      "text: THANK YOU. left=None right=None\n",
      "text: PLEASE COME AGA t left=None right=None\n"
     ]
    }
   ],
   "source": [
    "print('\\n'.join([str(elem) for elem in task1('img/test.jpg', 'output/test.txt')]))"
   ]
  },
  {
   "cell_type": "code",
   "execution_count": 171,
   "metadata": {},
   "outputs": [
    {
     "name": "stdout",
     "output_type": "stream",
     "text": [
      "Process: img/test.jpg\n"
     ]
    },
    {
     "ename": "NameError",
     "evalue": "name 'isHCloser' is not defined",
     "output_type": "error",
     "traceback": [
      "\u001b[0;31m---------------------------------------------------------------------------\u001b[0m",
      "\u001b[0;31mNameError\u001b[0m                                 Traceback (most recent call last)",
      "\u001b[0;32m<ipython-input-171-0aee9c69d057>\u001b[0m in \u001b[0;36m<module>\u001b[0;34m\u001b[0m\n\u001b[1;32m     54\u001b[0m     \u001b[0;32mreturn\u001b[0m \u001b[0misVertical\u001b[0m\u001b[0;34m(\u001b[0m\u001b[0mthis\u001b[0m\u001b[0;34m,\u001b[0m \u001b[0mother\u001b[0m\u001b[0;34m)\u001b[0m \u001b[0;32mand\u001b[0m \u001b[0mgravityCenter\u001b[0m\u001b[0;34m(\u001b[0m\u001b[0mthis\u001b[0m\u001b[0;34m)\u001b[0m\u001b[0;34m[\u001b[0m\u001b[0;36m1\u001b[0m\u001b[0;34m]\u001b[0m \u001b[0;34m<=\u001b[0m \u001b[0mgravityCenter\u001b[0m\u001b[0;34m(\u001b[0m\u001b[0mother\u001b[0m\u001b[0;34m)\u001b[0m\u001b[0;34m[\u001b[0m\u001b[0;36m1\u001b[0m\u001b[0;34m]\u001b[0m\u001b[0;34m\u001b[0m\u001b[0;34m\u001b[0m\u001b[0m\n\u001b[1;32m     55\u001b[0m \u001b[0;34m\u001b[0m\u001b[0m\n\u001b[0;32m---> 56\u001b[0;31m mapper = {'left': {'direction_fn' : isLeft, 'closer_fn' : isHCloser},\n\u001b[0m\u001b[1;32m     57\u001b[0m           \u001b[0;34m'right'\u001b[0m \u001b[0;34m:\u001b[0m \u001b[0;34m{\u001b[0m\u001b[0;34m'direction_fn'\u001b[0m \u001b[0;34m:\u001b[0m \u001b[0misRight\u001b[0m\u001b[0;34m,\u001b[0m \u001b[0;34m'closer_fn'\u001b[0m \u001b[0;34m:\u001b[0m \u001b[0misHorizontalCloser\u001b[0m\u001b[0;34m}\u001b[0m\u001b[0;34m,\u001b[0m\u001b[0;34m\u001b[0m\u001b[0;34m\u001b[0m\u001b[0m\n\u001b[1;32m     58\u001b[0m           \u001b[0;34m'top'\u001b[0m \u001b[0;34m:\u001b[0m \u001b[0;34m{\u001b[0m\u001b[0;34m'direction_fn'\u001b[0m \u001b[0;34m:\u001b[0m \u001b[0misTop\u001b[0m\u001b[0;34m,\u001b[0m \u001b[0;34m'closer_fn'\u001b[0m \u001b[0;34m:\u001b[0m \u001b[0misVCloser\u001b[0m\u001b[0;34m}\u001b[0m\u001b[0;34m,\u001b[0m\u001b[0;34m\u001b[0m\u001b[0;34m\u001b[0m\u001b[0m\n",
      "\u001b[0;31mNameError\u001b[0m: name 'isHCloser' is not defined"
     ]
    }
   ],
   "source": [
    "boxes = task1('img/test.jpg', 'output/test.txt')\n",
    "\n",
    "def debug(index):\n",
    "    box = boxes[index]\n",
    "    return (box.page_num, box.block_num, box.par_num, box.line_num)\n",
    "\n",
    "def isChange(index):\n",
    "    box1, box2 = boxes[index], boxes[index - 1]\n",
    "    x1 = (box1.page_num, box1.block_num, box1.par_num, box1.line_num)\n",
    "    x2 = (box2.page_num, box2.block_num, box2.par_num, box2.line_num)\n",
    "    print(x1)\n",
    "    print(x2)\n",
    "    return x1 != x2\n",
    "\n",
    "def info(box):\n",
    "    return str((box.text, box.left, box.top, box.width, box.height))\n",
    "\n",
    "def gravityCenter(box):\n",
    "    return (box.left + box.width / 2, box.top + box.height / 2)\n",
    "\n",
    "def isHorizontal(this, other):\n",
    "    if this.top >= other.top + other.height:\n",
    "        return False\n",
    "    if other.top >= this.top + this.height:\n",
    "        return False\n",
    "    return True\n",
    "\n",
    "def isVertical(this, other):\n",
    "    if this.left >= other.left + other.width:\n",
    "        return False\n",
    "    if other.left >= this.left + this.width:\n",
    "        return False\n",
    "    return True\n",
    "\n",
    "def coordDiff(this, other, axis):\n",
    "    return abs(gravityCenter(this)[axis] - gravityCenter(other)[axis])\n",
    "\n",
    "def isHClose(this, other, that):\n",
    "    return coordDiff(this, other, 0) <= coordDiff(this, that, 0) \n",
    "\n",
    "def isVCloser(this, other, that):\n",
    "    return coordDiff(this, other, 1) <= coordDiff(this, that, 1) \n",
    "\n",
    "def isLeft(this, other):\n",
    "    return isHorizontal(this, other) and gravityCenter(this)[0] >= gravityCenter(other)[0]\n",
    "\n",
    "def isRight(this, other):\n",
    "    return isHorizontal(this, other) and gravityCenter(this)[0] <= gravityCenter(other)[0]\n",
    "\n",
    "def isTop(this, other):\n",
    "    return isVertical(this, other) and gravityCenter(this)[1] >= gravityCenter(other)[1]\n",
    "\n",
    "def isBottom(this, other):\n",
    "    return isVertical(this, other) and gravityCenter(this)[1] <= gravityCenter(other)[1]\n",
    "\n",
    "mapper = {'left': {'direction_fn' : isLeft, 'closer_fn' : isHCloser},\n",
    "          'right' : {'direction_fn' : isRight, 'closer_fn' : isHorizontalCloser},\n",
    "          'top' : {'direction_fn' : isTop, 'closer_fn' : isVCloser},\n",
    "          'bottom' : {'direction_fn' : isBottom, 'closer_fn' : isVCloser}\n",
    "         }\n",
    "\n",
    "def update(coord, this, other):\n",
    "    for key in coord.keys():\n",
    "        if mapper[key]['direction_fn'](this, other):\n",
    "            if (coord[key] is None) or (mapper[key]['closer_fn'](this, other, coord[key])):\n",
    "                coord[key] = other\n",
    "\n",
    "graph = {}\n",
    "for i, box1 in enumerate(boxes):\n",
    "    coord = {'left' : None, 'right' : None, 'top' : None, 'bottom' : None}\n",
    "    for j, box2 in enumerate(boxes):\n",
    "        update(coord, box1, box2)\n",
    "    graph[i] = coord\n",
    "\n",
    "print(graph)\n",
    "# print('\\n'.join([str(elem) for elem in boxes]))"
   ]
  },
  {
   "cell_type": "code",
   "execution_count": null,
   "metadata": {},
   "outputs": [],
   "source": []
  },
  {
   "cell_type": "code",
   "execution_count": null,
   "metadata": {},
   "outputs": [],
   "source": []
  }
 ],
 "metadata": {
  "colab": {
   "collapsed_sections": [],
   "name": "Untitled",
   "provenance": []
  },
  "kernelspec": {
   "display_name": "Python 3",
   "language": "python",
   "name": "python3"
  },
  "language_info": {
   "codemirror_mode": {
    "name": "ipython",
    "version": 3
   },
   "file_extension": ".py",
   "mimetype": "text/x-python",
   "name": "python",
   "nbconvert_exporter": "python",
   "pygments_lexer": "ipython3",
   "version": "3.8.10"
  }
 },
 "nbformat": 4,
 "nbformat_minor": 1
}
